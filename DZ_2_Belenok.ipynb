{
  "nbformat": 4,
  "nbformat_minor": 0,
  "metadata": {
    "colab": {
      "provenance": [],
      "authorship_tag": "ABX9TyPK4uZwTEUmOtOZPUuJnsXe",
      "include_colab_link": true
    },
    "kernelspec": {
      "name": "python3",
      "display_name": "Python 3"
    },
    "language_info": {
      "name": "python"
    }
  },
  "cells": [
    {
      "cell_type": "markdown",
      "metadata": {
        "id": "view-in-github",
        "colab_type": "text"
      },
      "source": [
        "<a href=\"https://colab.research.google.com/github/Anya232536/EDA_WB/blob/main/DZ_2_Belenok.ipynb\" target=\"_parent\"><img src=\"https://colab.research.google.com/assets/colab-badge.svg\" alt=\"Open In Colab\"/></a>"
      ]
    },
    {
      "cell_type": "code",
      "source": [
        "import numpy as np\n",
        "from scipy import stats"
      ],
      "metadata": {
        "id": "Tk76gm47UYty"
      },
      "execution_count": 9,
      "outputs": []
    },
    {
      "cell_type": "markdown",
      "source": [
        "1. Из партии батареек с номинальным напряжением 12 В наугад выбрано семь штук. Согласно показаниям высокоточного вольтметра, фактически выдаваемое ими напряжение составило: 12,9; 11,6; 13,5; 13,9; 12,1; 11,9; 13,0 В соответственно. Можно ли считать, что среднее напряжение действительно равно 12 В?\n",
        "\n",
        "Тогда:\n",
        "\n",
        "$H0: E(x_{i}) = u =12$\n",
        "\n",
        "$H1: E(x_{i}) = u \\neq 12$"
      ],
      "metadata": {
        "id": "w0hNJlitTMVi"
      }
    },
    {
      "cell_type": "code",
      "execution_count": null,
      "metadata": {
        "colab": {
          "base_uri": "https://localhost:8080/"
        },
        "id": "MZoZPODITH_f",
        "outputId": "596bfc7f-bace-4f3b-89a0-d144687e5be5"
      },
      "outputs": [
        {
          "output_type": "stream",
          "name": "stdout",
          "text": [
            "Statistic:  2.1578017974978794 , p-value:  0.07430190210562304\n"
          ]
        }
      ],
      "source": [
        "sample = np.array([12.9, 11.6, 13.5, 13.9, 12.1, 11.9, 13.0])\n",
        "u0 = 12\n",
        "num = len(sample)-1\n",
        "stud = stats.t(num)\n",
        "T = (num)**0.5*(sample.mean() - u0)/sample.std()\n",
        "P = np.minimum(2*stud.cdf(T), 2 - 2*stud.cdf(T))\n",
        "print(\"Statistic: \",T,\", p-value: \",P)"
      ]
    },
    {
      "cell_type": "code",
      "source": [
        "stats.ttest_1samp(sample, u0, alternative='two-sided')"
      ],
      "metadata": {
        "colab": {
          "base_uri": "https://localhost:8080/"
        },
        "id": "Uf1Bz__cw5P6",
        "outputId": "5ddf37ca-6ad0-43a0-fce8-5280b9897674"
      },
      "execution_count": null,
      "outputs": [
        {
          "output_type": "execute_result",
          "data": {
            "text/plain": [
              "TtestResult(statistic=2.1578017974978794, pvalue=0.07430190210562304, df=6)"
            ]
          },
          "metadata": {},
          "execution_count": 45
        }
      ]
    },
    {
      "cell_type": "markdown",
      "source": [
        "На уровне значимость 5% и ниже принимаем нулевую гиротезу, если же уровень значимости выбран 10% - нулевая гипотеза отклоняется в пользу альтернативной.\n"
      ],
      "metadata": {
        "id": "hYEDwj0IUd4e"
      }
    },
    {
      "cell_type": "markdown",
      "source": [
        "2. Есть два различных метода определения процентного содержания жира в мясе. Доля жира для 10 образцов мяса была определена каждым из двух методов. Позволяют ли полученные результаты сделать вывод о том, что один метод даёт в среднем более высокие показания, чем другой?\n",
        "\n",
        "Тогда:\n",
        "\n",
        "$H0: u_{1} = u_{2}$\n",
        "\n",
        "$H1: u_{1} \\neq u_{2}$"
      ],
      "metadata": {
        "id": "U6KMZlhhUuNm"
      }
    },
    {
      "cell_type": "code",
      "source": [
        "x = np.array([23.1, 23.2, 26.5, 26.6, 27.1, 48.3, 40.5, 25.0, 38.4, 23.5])\n",
        "y = np.array([22.7, 23.6, 27.1, 27.4, 27.4, 46.8, 40.4, 24.9, 38.1, 23.8])\n",
        "\n",
        "m = len(x)\n",
        "n = len(y)\n",
        "s2x = x.var()\n",
        "s2y = y.var()\n",
        "\n",
        "T = (x.mean() - y.mean())/(s2x/m + s2y/n)**0.5\n",
        "\n",
        "df = round( (s2x/m + s2y/n)**2 / ( (s2x/m)**2/(m-1) + (s2y/n)**2/(n-1) ))\n",
        "St = stats.t(df)\n",
        "\n",
        "P = np.minimum(2*St.cdf(T), 2 - 2*St.cdf(T))\n",
        "print(\"Statistic: \",T,\", p-value: \",P)"
      ],
      "metadata": {
        "colab": {
          "base_uri": "https://localhost:8080/"
        },
        "id": "kttH98EDXXdR",
        "outputId": "2d40246d-742a-4957-a3e9-da6b700d71c1"
      },
      "execution_count": null,
      "outputs": [
        {
          "output_type": "stream",
          "name": "stdout",
          "text": [
            "Statistic:  -1.9376654396809454e-15 , p-value:  0.9999999999999984\n"
          ]
        }
      ]
    },
    {
      "cell_type": "code",
      "source": [
        "stats.ttest_ind(x,y, alternative = 'two-sided')"
      ],
      "metadata": {
        "colab": {
          "base_uri": "https://localhost:8080/"
        },
        "id": "gNCTaqhDoJua",
        "outputId": "fe603c6b-b07b-41fb-8aa4-a83cb67492c4"
      },
      "execution_count": null,
      "outputs": [
        {
          "output_type": "execute_result",
          "data": {
            "text/plain": [
              "TtestResult(statistic=-1.8382308398350186e-15, pvalue=0.9999999999999986, df=18.0)"
            ]
          },
          "metadata": {},
          "execution_count": 22
        }
      ]
    },
    {
      "cell_type": "markdown",
      "source": [
        "Полученные результаты говорят о том, что оба метода в среднем дают одинаковые результаты"
      ],
      "metadata": {
        "id": "HYx4kQqTol3M"
      }
    },
    {
      "cell_type": "markdown",
      "source": [
        "3. Для проверки гипотезы о том, что жители городов имеют в среднем более высокое систолическое артериальное давление, чем жители сельской местности, было проведено обследование 10 горожан и 9 жителей села примерно одного возраста. Получены следующие данные об уровне давления для горожан: 132, 111, 119, 138, 200, 131, 138, 170, 159, 140; для селян: 115, 190, 127, 155, 148, 121, 116, 121, 197. Можно ли считать верной выдвинутую гипотезу на уровне значимости 0,05?\n",
        "\n",
        "\n",
        "Тогда:\n",
        "\n",
        "$H0: u_{1} = u_{2}$\n",
        "\n",
        "$H1: u_{1} > u_{2}$"
      ],
      "metadata": {
        "id": "meou7nMPhSEh"
      }
    },
    {
      "cell_type": "code",
      "source": [
        "x = np.array([132, 111, 119, 138, 200, 131, 138, 170, 159, 140])\n",
        "y = np.array([115, 190, 127, 155, 148, 121, 116, 121, 197])\n",
        "\n",
        "m = len(x)\n",
        "n = len(y)\n",
        "s2x = x.var()\n",
        "s2y = y.var()\n",
        "\n",
        "T = (x.mean() - y.mean())/(s2x/m + s2y/n)**0.5\n",
        "\n",
        "df = round( (s2x/m + s2y/n)**2 / ( (s2x/m)**2/(m-1) + (s2y/n)**2/(n-1) ))\n",
        "St = stats.t(df)\n",
        "\n",
        "P = 1 - St.cdf(T)\n",
        "print(\"Statistic: \",T,\", p-value: \",P)"
      ],
      "metadata": {
        "colab": {
          "base_uri": "https://localhost:8080/"
        },
        "id": "mlcNR0vvhQ5_",
        "outputId": "dfb22d5c-2fd7-4b18-b3ed-3de324e12f19"
      },
      "execution_count": null,
      "outputs": [
        {
          "output_type": "stream",
          "name": "stdout",
          "text": [
            "Statistic:  0.03681832098940068 , p-value:  0.48554266145506586\n"
          ]
        }
      ]
    },
    {
      "cell_type": "code",
      "source": [
        "stats.ttest_ind(x,y).pvalue/2"
      ],
      "metadata": {
        "colab": {
          "base_uri": "https://localhost:8080/"
        },
        "id": "nXnSYix6uat0",
        "outputId": "36fb3e7d-6480-4559-e747-5ca4432f2b94"
      },
      "execution_count": null,
      "outputs": [
        {
          "output_type": "execute_result",
          "data": {
            "text/plain": [
              "0.486178812200461"
            ]
          },
          "metadata": {},
          "execution_count": 38
        }
      ]
    },
    {
      "cell_type": "markdown",
      "source": [
        "на уровне 5% выдвинутая гипотеза верна: жители городов имеют в среднем такое же систолическое артериальное давление, как жители сельской местности."
      ],
      "metadata": {
        "id": "t16md8pZwGGr"
      }
    },
    {
      "cell_type": "markdown",
      "source": [
        "4. Известно, что 52% новорождённых детей — мальчики, а 48% — девочки. В случайной выборке из 5 000 человек в возрасте от 30 до 60 лет мужчин оказалось 2 500. Можно ли на уровне значимости 0,05 считать, основываясь на этих данных, что смертность среди мужчин и женщин одинакова?\n",
        "\n",
        "Тогда:\n",
        "\n",
        "$H0: p = 0.52$\n",
        "\n",
        "$H1: p \\neq 0.52$"
      ],
      "metadata": {
        "id": "FJnYG23JjZlH"
      }
    },
    {
      "cell_type": "code",
      "source": [
        "m = 2500\n",
        "n = 5000\n",
        "p0 = 0.52\n",
        "\n",
        "T = (m-n*p0)/(n*p0*(1-p0))**0.5\n",
        "\n",
        "binom = stats.binom(5000, 0.52)\n",
        "P = np.minimum(2*binom.cdf(T), 2 - 2*binom.cdf(T))\n",
        "\n",
        "print(\"Statistic: \",T,\", p-value: \",P)"
      ],
      "metadata": {
        "colab": {
          "base_uri": "https://localhost:8080/"
        },
        "id": "GjTFL34bkdHi",
        "outputId": "d4291171-2f0f-4643-db6e-a9fbe9da0fde"
      },
      "execution_count": null,
      "outputs": [
        {
          "output_type": "stream",
          "name": "stdout",
          "text": [
            "Statistic:  -2.830692585361489 , p-value:  0.0\n"
          ]
        }
      ]
    },
    {
      "cell_type": "code",
      "source": [
        "t = stats.binomtest(2500, 5000, 0.52, alternative='two-sided').pvalue\n",
        "t"
      ],
      "metadata": {
        "colab": {
          "base_uri": "https://localhost:8080/"
        },
        "id": "cCBWgmhAqYRv",
        "outputId": "99deaa1e-bfae-4b61-ba97-8fc1253e6f06"
      },
      "execution_count": null,
      "outputs": [
        {
          "output_type": "execute_result",
          "data": {
            "text/plain": [
              "0.0048495021595452836"
            ]
          },
          "metadata": {},
          "execution_count": 36
        }
      ]
    },
    {
      "cell_type": "markdown",
      "source": [
        "На уровне значимости 5% нулевая гипотеза отвергается, смертность для мужчин и женщин не одинакова"
      ],
      "metadata": {
        "id": "uA5tcQgasmlb"
      }
    },
    {
      "cell_type": "markdown",
      "source": [
        "5. В первом эксперименте для сравнения двух средних X1=17, X2=16 применялся t-критерий Стьюдента, и эти различия оказались значимы (p = 0, 001). Во втором исследовании, также при помощи t - критерия, сравнивались два средних X1=17, X2=36, и эти различия не значимы при p = 0,8. В чем может быть причина таких результатов, при условии, что нулевая и альтернативная гипотезы в обоих случаях одинаковы?\n",
        "\n",
        "Причина таких результатов может быть:\n",
        "\n",
        "- **Разные размеры выборок**: Если в первом эксперименте выборки были достаточно большими, то t-критерий имел более высокую статистическую мощность, что позволило выявить значимые различия даже при сравнительно небольшой разнице между средними (17 и 16). Если же во втором эксперименте выборки были маленькими, то мощность теста могла оказаться недостаточной для обнаружения различий, даже если разница между средними (17 и 36) была больше.\n",
        "\n",
        "- **Величина стандартных отклонений**: Значимость t-критерия также зависит от дисперсий (или стандартных отклонений) выборок. Если в первом эксперименте стандартные отклонения были небольшими, то различия между средними были более выраженными относительно разброса данных. Во втором эксперименте высокое стандартное отклонение могло \"замаскировать\" разницу между средними (17 и 36), делая её статистически незначимой."
      ],
      "metadata": {
        "id": "vENFzN99xVTv"
      }
    },
    {
      "cell_type": "code",
      "source": [],
      "metadata": {
        "id": "2u4BU0x4haji"
      },
      "execution_count": null,
      "outputs": []
    },
    {
      "cell_type": "markdown",
      "source": [
        "_________________________________________________________________________________________________________\n",
        "ДЗ_3"
      ],
      "metadata": {
        "id": "KErh7OZ5hDca"
      }
    },
    {
      "cell_type": "markdown",
      "source": [
        "у меня почему-то в ДЗ_3 в гугл форме снова есть возможность пройти тест, прикрепляю фото скрин результатов\n",
        "\n",
        "![image.png](data:image/png;base64,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)"
      ],
      "metadata": {
        "id": "uwSQUlGxhQMT"
      }
    },
    {
      "cell_type": "code",
      "source": [
        "import pandas as pd\n",
        "import matplotlib.pyplot as plt\n",
        "\n",
        "df = pd.read_csv('experiment_lesson_4.csv')\n",
        "df_1 = df[df['experiment_group']=='control']\n",
        "df_2 = df[df['experiment_group']=='test']"
      ],
      "metadata": {
        "id": "v-XdbBBbSSuC"
      },
      "execution_count": 10,
      "outputs": []
    },
    {
      "cell_type": "code",
      "source": [
        "plt.hist(np.array(df_1['delivery_time']), bins = 6)"
      ],
      "metadata": {
        "colab": {
          "base_uri": "https://localhost:8080/",
          "height": 503
        },
        "id": "TBlWEy7GWbKS",
        "outputId": "fd2f62dd-2a35-4bc0-e8c9-5a5519e89376"
      },
      "execution_count": 32,
      "outputs": [
        {
          "output_type": "execute_result",
          "data": {
            "text/plain": [
              "(array([ 348., 1870., 4158., 3105.,  566.,   45.]),\n",
              " array([15.        , 26.33333333, 37.66666667, 49.        , 60.33333333,\n",
              "        71.66666667, 83.        ]),\n",
              " <BarContainer object of 6 artists>)"
            ]
          },
          "metadata": {},
          "execution_count": 32
        },
        {
          "output_type": "display_data",
          "data": {
            "text/plain": [
              "<Figure size 640x480 with 1 Axes>"
            ],
            "image/png": "[encoded data removed]"
          },
          "metadata": {}
        }
      ]
    },
    {
      "cell_type": "code",
      "source": [
        "plt.hist(np.array(df_2['delivery_time']), bins = 5)"
      ],
      "metadata": {
        "colab": {
          "base_uri": "https://localhost:8080/",
          "height": 485
        },
        "id": "aW2ssVc8XOT1",
        "outputId": "913fc33f-a769-43e1-c696-6485679f3b03"
      },
      "execution_count": 34,
      "outputs": [
        {
          "output_type": "execute_result",
          "data": {
            "text/plain": [
              "(array([ 474., 3201., 4697., 1608.,  124.]),\n",
              " array([10., 23., 36., 49., 62., 75.]),\n",
              " <BarContainer object of 5 artists>)"
            ]
          },
          "metadata": {},
          "execution_count": 34
        },
        {
          "output_type": "display_data",
          "data": {
            "text/plain": [
              "<Figure size 640x480 with 1 Axes>"
            ],
            "image/png": "[encoded data removed]"
          },
          "metadata": {}
        }
      ]
    },
    {
      "cell_type": "code",
      "source": [
        "np.abs(len(df_1) - len(df_2))"
      ],
      "metadata": {
        "colab": {
          "base_uri": "https://localhost:8080/"
        },
        "id": "YeCfisFSX-H5",
        "outputId": "d57cc3ec-d3b8-4126-c8a1-f9b99ee26f5b"
      },
      "execution_count": 13,
      "outputs": [
        {
          "output_type": "execute_result",
          "data": {
            "text/plain": [
              "12"
            ]
          },
          "metadata": {},
          "execution_count": 13
        }
      ]
    },
    {
      "cell_type": "code",
      "source": [
        "from scipy import stats\n",
        "res = stats.normaltest(np.array(df_1['delivery_time']))\n",
        "res.pvalue"
      ],
      "metadata": {
        "colab": {
          "base_uri": "https://localhost:8080/"
        },
        "id": "_pXTJRX4Ya8O",
        "outputId": "f3c04b04-091a-439b-f500-e159c440c51b"
      },
      "execution_count": 16,
      "outputs": [
        {
          "output_type": "execute_result",
          "data": {
            "text/plain": [
              "0.8809549607809654"
            ]
          },
          "metadata": {},
          "execution_count": 16
        }
      ]
    },
    {
      "cell_type": "code",
      "source": [
        "from scipy import stats\n",
        "res = stats.normaltest(np.array(df_2['delivery_time']))\n",
        "res.pvalue"
      ],
      "metadata": {
        "colab": {
          "base_uri": "https://localhost:8080/"
        },
        "id": "IG_FVuxeYogw",
        "outputId": "810cc297-f16a-4047-ad2f-3b88b9c3d5ad"
      },
      "execution_count": 17,
      "outputs": [
        {
          "output_type": "execute_result",
          "data": {
            "text/plain": [
              "0.02983483685333173"
            ]
          },
          "metadata": {},
          "execution_count": 17
        }
      ]
    },
    {
      "cell_type": "code",
      "source": [
        "np.std(np.array(df_1['delivery_time']))"
      ],
      "metadata": {
        "colab": {
          "base_uri": "https://localhost:8080/"
        },
        "id": "rI-MCr5ZY28j",
        "outputId": "2497b4fc-88c7-479e-a190-47a1520ec10b"
      },
      "execution_count": 18,
      "outputs": [
        {
          "output_type": "execute_result",
          "data": {
            "text/plain": [
              "9.989522000652327"
            ]
          },
          "metadata": {},
          "execution_count": 18
        }
      ]
    },
    {
      "cell_type": "code",
      "source": [
        "np.std(np.array(df_2['delivery_time']))"
      ],
      "metadata": {
        "colab": {
          "base_uri": "https://localhost:8080/"
        },
        "id": "x6iSgwFIZBZr",
        "outputId": "6174e58b-981e-4421-d3d3-d5758709d009"
      },
      "execution_count": 19,
      "outputs": [
        {
          "output_type": "execute_result",
          "data": {
            "text/plain": [
              "9.882819260031342"
            ]
          },
          "metadata": {},
          "execution_count": 19
        }
      ]
    },
    {
      "cell_type": "code",
      "source": [
        "stats.ttest_ind(np.array(df_2['delivery_time']), np.array(df_1['delivery_time']))"
      ],
      "metadata": {
        "colab": {
          "base_uri": "https://localhost:8080/"
        },
        "id": "HAzcSRgMZeE7",
        "outputId": "460245ab-b76e-42a8-9bc3-a70e76167e1a"
      },
      "execution_count": 37,
      "outputs": [
        {
          "output_type": "execute_result",
          "data": {
            "text/plain": [
              "TtestResult(statistic=-43.03582663183714, pvalue=0.0, df=20194.0)"
            ]
          },
          "metadata": {},
          "execution_count": 37
        }
      ]
    },
    {
      "cell_type": "code",
      "source": [
        "np.array(df_1['delivery_time']).mean()"
      ],
      "metadata": {
        "colab": {
          "base_uri": "https://localhost:8080/"
        },
        "id": "SHUzzuCFadXB",
        "outputId": "a98ebb27-fcb2-4dee-df3c-ab37fffb69a2"
      },
      "execution_count": 24,
      "outputs": [
        {
          "output_type": "execute_result",
          "data": {
            "text/plain": [
              "45.065101070154576"
            ]
          },
          "metadata": {},
          "execution_count": 24
        }
      ]
    },
    {
      "cell_type": "code",
      "source": [
        "np.array(df_2['delivery_time']).mean()"
      ],
      "metadata": {
        "colab": {
          "base_uri": "https://localhost:8080/"
        },
        "id": "Y5FYKiUqajdZ",
        "outputId": "9b7e3f83-e7f1-4f8a-cc9a-3a185ef30b0e"
      },
      "execution_count": 25,
      "outputs": [
        {
          "output_type": "execute_result",
          "data": {
            "text/plain": [
              "39.04681314330958"
            ]
          },
          "metadata": {},
          "execution_count": 25
        }
      ]
    },
    {
      "cell_type": "code",
      "source": [
        "np.array(df_2['delivery_time']).mean() * 100 / np.array(df_1['delivery_time']).mean() - 100"
      ],
      "metadata": {
        "colab": {
          "base_uri": "https://localhost:8080/"
        },
        "id": "dvvsNCLtal-P",
        "outputId": "452504d2-e72b-492e-dd79-b24eab479754"
      },
      "execution_count": 27,
      "outputs": [
        {
          "output_type": "execute_result",
          "data": {
            "text/plain": [
              "-13.354653121660817"
            ]
          },
          "metadata": {},
          "execution_count": 27
        }
      ]
    }
  ]
}